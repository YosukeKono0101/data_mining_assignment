{
 "cells": [
  {
   "cell_type": "code",
   "execution_count": 52,
   "id": "1663f304",
   "metadata": {},
   "outputs": [],
   "source": [
    "import pandas as pd\n",
    "import matplotlib.pyplot as plt\n",
    "import seaborn as sns"
   ]
  },
  {
   "cell_type": "code",
   "execution_count": 11,
   "id": "e9b7ef20",
   "metadata": {},
   "outputs": [],
   "source": [
    "data = pd.read_csv(\"D1.csv\")"
   ]
  },
  {
   "cell_type": "code",
   "execution_count": 14,
   "id": "84bc55c1",
   "metadata": {},
   "outputs": [
    {
     "name": "stdout",
     "output_type": "stream",
     "text": [
      "<class 'pandas.core.frame.DataFrame'>\n",
      "RangeIndex: 6110 entries, 0 to 6109\n",
      "Data columns (total 43 columns):\n",
      " #   Column                  Non-Null Count  Dtype  \n",
      "---  ------                  --------------  -----  \n",
      " 0   survey_date             6110 non-null   object \n",
      " 1   region                  1659 non-null   object \n",
      " 2   country                 6107 non-null   object \n",
      " 3   ip_latitude             6110 non-null   float64\n",
      " 4   ip_longitude            6110 non-null   float64\n",
      " 5   ip_accuracy             6110 non-null   int64  \n",
      " 6   gender                  6110 non-null   object \n",
      " 7   age                     6110 non-null   object \n",
      " 8   height                  6110 non-null   int64  \n",
      " 9   weight                  6110 non-null   int64  \n",
      " 10  bmi                     6110 non-null   float64\n",
      " 11  blood_type              5997 non-null   object \n",
      " 12  insurance               4758 non-null   object \n",
      " 13  income                  4916 non-null   object \n",
      " 14  race                    4942 non-null   object \n",
      " 15  immigrant               4942 non-null   object \n",
      " 16  smoking                 6071 non-null   object \n",
      " 17  alcohol                 6069 non-null   float64\n",
      " 18  cannabis                1583 non-null   float64\n",
      " 19  amphetamines            1503 non-null   float64\n",
      " 20  cocaine                 1491 non-null   float64\n",
      " 21  contacts_count          6064 non-null   float64\n",
      " 22  house_count             5872 non-null   float64\n",
      " 23  public_transport_count  4842 non-null   float64\n",
      " 24  working                 6064 non-null   object \n",
      " 25  worried                 4778 non-null   float64\n",
      " 26  covid19_positive        6110 non-null   int64  \n",
      " 27  covid19_symptoms        6110 non-null   int64  \n",
      " 28  covid19_contact         6110 non-null   int64  \n",
      " 29  asthma                  6110 non-null   int64  \n",
      " 30  kidney_disease          6110 non-null   int64  \n",
      " 31  liver_disease           6110 non-null   int64  \n",
      " 32  compromised_immune      6110 non-null   int64  \n",
      " 33  heart_disease           6110 non-null   int64  \n",
      " 34  lung_disease            6110 non-null   int64  \n",
      " 35  diabetes                6110 non-null   int64  \n",
      " 36  hiv_positive            6110 non-null   int64  \n",
      " 37  hypertension            6110 non-null   int64  \n",
      " 38  other_chronic           6110 non-null   int64  \n",
      " 39  nursing_home            6110 non-null   int64  \n",
      " 40  health_worker           6110 non-null   int64  \n",
      " 41  risk_infection          6110 non-null   float64\n",
      " 42  risk_mortality          6110 non-null   float64\n",
      "dtypes: float64(13), int64(18), object(12)\n",
      "memory usage: 2.0+ MB\n",
      "None\n"
     ]
    }
   ],
   "source": [
    "print(data.info())"
   ]
  },
  {
   "cell_type": "code",
   "execution_count": 16,
   "id": "8641df61",
   "metadata": {},
   "outputs": [
    {
     "name": "stdout",
     "output_type": "stream",
     "text": [
      "survey_date                object\n",
      "region                     object\n",
      "country                    object\n",
      "ip_latitude               float64\n",
      "ip_longitude              float64\n",
      "ip_accuracy                 int64\n",
      "gender                     object\n",
      "age                        object\n",
      "height                      int64\n",
      "weight                      int64\n",
      "bmi                       float64\n",
      "blood_type                 object\n",
      "insurance                  object\n",
      "income                     object\n",
      "race                       object\n",
      "immigrant                  object\n",
      "smoking                    object\n",
      "alcohol                   float64\n",
      "cannabis                  float64\n",
      "amphetamines              float64\n",
      "cocaine                   float64\n",
      "contacts_count            float64\n",
      "house_count               float64\n",
      "public_transport_count    float64\n",
      "working                    object\n",
      "worried                   float64\n",
      "covid19_positive            int64\n",
      "covid19_symptoms            int64\n",
      "covid19_contact             int64\n",
      "asthma                      int64\n",
      "kidney_disease              int64\n",
      "liver_disease               int64\n",
      "compromised_immune          int64\n",
      "heart_disease               int64\n",
      "lung_disease                int64\n",
      "diabetes                    int64\n",
      "hiv_positive                int64\n",
      "hypertension                int64\n",
      "other_chronic               int64\n",
      "nursing_home                int64\n",
      "health_worker               int64\n",
      "risk_infection            float64\n",
      "risk_mortality            float64\n",
      "dtype: object\n"
     ]
    }
   ],
   "source": [
    "print(data.dtypes)"
   ]
  },
  {
   "cell_type": "code",
   "execution_count": 46,
   "id": "29d28f5a",
   "metadata": {},
   "outputs": [
    {
     "name": "stdout",
     "output_type": "stream",
     "text": [
      "ip_latitude               -2.216036\n",
      "ip_longitude               1.712252\n",
      "ip_accuracy                3.130029\n",
      "age                        8.726695\n",
      "height                    -0.396537\n",
      "weight                     1.137239\n",
      "bmi                        1.968153\n",
      "alcohol                    1.854553\n",
      "cannabis                   2.117621\n",
      "amphetamines               4.888433\n",
      "cocaine                    6.677918\n",
      "contacts_count             0.956766\n",
      "house_count                1.782021\n",
      "public_transport_count     5.643904\n",
      "worried                   -0.351016\n",
      "covid19_positive           0.340764\n",
      "covid19_symptoms           1.702542\n",
      "covid19_contact            1.740128\n",
      "asthma                     2.216737\n",
      "kidney_disease             8.011834\n",
      "liver_disease              9.777810\n",
      "compromised_immune         3.530728\n",
      "heart_disease              4.553728\n",
      "lung_disease               5.799262\n",
      "diabetes                   2.872666\n",
      "hiv_positive              14.946920\n",
      "hypertension               1.617772\n",
      "other_chronic              3.326283\n",
      "nursing_home               9.116408\n",
      "health_worker              3.075879\n",
      "risk_infection             0.041794\n",
      "risk_mortality            13.881012\n",
      "dtype: float64\n"
     ]
    },
    {
     "name": "stderr",
     "output_type": "stream",
     "text": [
      "/var/folders/fp/xxcq9s6103d_13rhx_sqpwh80000gn/T/ipykernel_21571/3441849246.py:1: FutureWarning: Dropping of nuisance columns in DataFrame reductions (with 'numeric_only=None') is deprecated; in a future version this will raise TypeError.  Select only valid columns before calling the reduction.\n",
      "  skewness = data.skew()\n"
     ]
    }
   ],
   "source": [
    "#2.1\n",
    "skewness = data.skew()\n",
    "print(skewness)"
   ]
  },
  {
   "cell_type": "code",
   "execution_count": 36,
   "id": "a0c686a9",
   "metadata": {},
   "outputs": [
    {
     "name": "stdout",
     "output_type": "stream",
     "text": [
      "survey_date                  0\n",
      "region                    4451\n",
      "country                      3\n",
      "ip_latitude                  0\n",
      "ip_longitude                 0\n",
      "ip_accuracy                  0\n",
      "gender                       0\n",
      "age                          0\n",
      "height                       0\n",
      "weight                       0\n",
      "bmi                          0\n",
      "blood_type                 113\n",
      "insurance                 1352\n",
      "income                    1194\n",
      "race                      1168\n",
      "immigrant                 1168\n",
      "smoking                     39\n",
      "alcohol                     41\n",
      "cannabis                  4527\n",
      "amphetamines              4607\n",
      "cocaine                   4619\n",
      "contacts_count              46\n",
      "house_count                238\n",
      "public_transport_count    1268\n",
      "working                     46\n",
      "worried                   1332\n",
      "covid19_positive             0\n",
      "covid19_symptoms             0\n",
      "covid19_contact              0\n",
      "asthma                       0\n",
      "kidney_disease               0\n",
      "liver_disease                0\n",
      "compromised_immune           0\n",
      "heart_disease                0\n",
      "lung_disease                 0\n",
      "diabetes                     0\n",
      "hiv_positive                 0\n",
      "hypertension                 0\n",
      "other_chronic                0\n",
      "nursing_home                 0\n",
      "health_worker                0\n",
      "risk_infection               0\n",
      "risk_mortality               0\n",
      "dtype: int64\n"
     ]
    }
   ],
   "source": [
    "#2.2\n",
    "missing_values = data.isnull().sum()\n",
    "print(missing_values)"
   ]
  },
  {
   "cell_type": "code",
   "execution_count": 38,
   "id": "f7b29f5c",
   "metadata": {},
   "outputs": [
    {
     "name": "stdout",
     "output_type": "stream",
     "text": [
      "The average BMI of a patient from the US who is COVID-19 positive is 30.803993154592074\n"
     ]
    }
   ],
   "source": [
    "#2.3.a\n",
    "american__who_had_covid = data[(data['country'] == 'US') & (data['covid19_positive'] == 1)]\n",
    "average_bmi = us_covid_positive['bmi'].mean()\n",
    "print(\"The average BMI of a patient from the US who is COVID-19 positive is\", average_bmi)\n"
   ]
  },
  {
   "cell_type": "code",
   "execution_count": 40,
   "id": "03e2c131",
   "metadata": {},
   "outputs": [
    {
     "name": "stdout",
     "output_type": "stream",
     "text": [
      "The country that has the highest risk of mortality is IT\n"
     ]
    }
   ],
   "source": [
    "#2.3.b\n",
    "risk_mortality_by_country = data.groupby('country')['risk_mortality'].mean()\n",
    "highest_risk_country = risk_mortality_by_country.idxmax()\n",
    "print(\"The country that has the highest risk of mortality is\", highest_risk_country)"
   ]
  },
  {
   "cell_type": "code",
   "execution_count": 42,
   "id": "6ea888d2",
   "metadata": {},
   "outputs": [
    {
     "name": "stdout",
     "output_type": "stream",
     "text": [
      "The number of countries that have reported at least 10 positive cases is 17\n"
     ]
    }
   ],
   "source": [
    "#2.3.c\n",
    "positive_cases_by_country = data.groupby('country')['covid19_positive'].sum()\n",
    "at_least_10_positive_cases = positive_cases_by_country[positive_cases_by_country >= 10]\n",
    "print(\"The number of countries that have reported at least 10 positive cases is\", len(at_least_10_positive_cases))\n"
   ]
  },
  {
   "cell_type": "code",
   "execution_count": 44,
   "id": "104ea755",
   "metadata": {},
   "outputs": [
    {
     "name": "stdout",
     "output_type": "stream",
     "text": [
      "The top-five countries according to the number of positive cases are Index(['US', 'BR', 'GB', 'CA', 'MX'], dtype='object', name='country')\n"
     ]
    }
   ],
   "source": [
    "#2.3.d\n",
    "top_five_countries = positive_cases_by_country.sort_values(ascending=False).head(5)\n",
    "print(\"The top-five countries according to the number of positive cases are\", top_five_countries.index)\n"
   ]
  },
  {
   "cell_type": "code",
   "execution_count": 49,
   "id": "34cccdcc",
   "metadata": {},
   "outputs": [],
   "source": [
    "#3.1"
   ]
  },
  {
   "cell_type": "code",
   "execution_count": 51,
   "id": "cd152cf8",
   "metadata": {},
   "outputs": [
    {
     "data": {
      "image/png": "[encoded data removed]",
      "text/plain": [
       "<Figure size 432x288 with 1 Axes>"
      ]
     },
     "metadata": {
      "needs_background": "light"
     },
     "output_type": "display_data"
    }
   ],
   "source": [
    "#3.2\n",
    "plt.scatter(data['risk_infection'], data['covid19_positive'])\n",
    "plt.xlabel('Risk of Infection')\n",
    "plt.ylabel('Covid-19 Positive')\n",
    "plt.show()"
   ]
  },
  {
   "cell_type": "code",
   "execution_count": 54,
   "id": "ddc2fc73",
   "metadata": {},
   "outputs": [
    {
     "data": {
      "image/png": "[encoded data removed]",
      "text/plain": [
       "<Figure size 432x288 with 2 Axes>"
      ]
     },
     "metadata": {
      "needs_background": "light"
     },
     "output_type": "display_data"
    }
   ],
   "source": [
    "#3.3\n",
    "correlation = data.corr()\n",
    "sns.heatmap(correlation)\n",
    "plt.show()"
   ]
  }
 ],
 "metadata": {
  "kernelspec": {
   "display_name": "Python 3 (ipykernel)",
   "language": "python",
   "name": "python3"
  },
  "language_info": {
   "codemirror_mode": {
    "name": "ipython",
    "version": 3
   },
   "file_extension": ".py",
   "mimetype": "text/x-python",
   "name": "python",
   "nbconvert_exporter": "python",
   "pygments_lexer": "ipython3",
   "version": "3.9.12"
  }
 },
 "nbformat": 4,
 "nbformat_minor": 5
}
